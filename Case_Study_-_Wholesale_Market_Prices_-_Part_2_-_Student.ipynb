{
 "cells": [
  {
   "cell_type": "code",
   "execution_count": 22,
   "id": "3116251d",
   "metadata": {},
   "outputs": [
    {
     "data": {
      "text/html": [
       "<style>    span.str {color:#BA2121; font-style:italic; font-weight:bold;}    span.num {color:#080; font-style:italic; font-weight:bold;}    span.bltn {color:#080; font-weight:bold;}    span.op {color:#AA22FF;}    span.func {color:#00F;}    h3.yt {color:#009900; font-style:italic;}    span.yt {color:#009900; font-style:italic;}</style>"
      ],
      "text/plain": [
       "<IPython.core.display.HTML object>"
      ]
     },
     "execution_count": 22,
     "metadata": {},
     "output_type": "execute_result"
    }
   ],
   "source": [
    "# Use of IPython.display and HTML for using css to format text in Markdown based on\n",
    "# www.dataquest.io/blog/advanced-jupyter-notebooks-tutorial\n",
    "from IPython.display import HTML\n",
    "HTML(\n",
    "    \"<style>\\\n",
    "    span.str {color:#BA2121; font-style:italic; font-weight:bold;}\\\n",
    "    span.num {color:#080; font-style:italic; font-weight:bold;}\\\n",
    "    span.bltn {color:#080; font-weight:bold;}\\\n",
    "    span.op {color:#AA22FF;}\\\n",
    "    span.func {color:#00F;}\\\n",
    "    h3.yt {color:#009900; font-style:italic;}\\\n",
    "    span.yt {color:#009900; font-style:italic;}</style>\"\n",
    ")"
   ]
  },
  {
   "cell_type": "markdown",
   "id": "764e1fcc",
   "metadata": {},
   "source": [
    "<h2><u>Case Study: Wholesale Market Prices: Organic versus Conventional - Part 2</u></h2>\n",
    "\n",
    "In this Case Study you will practice reading and working with data that is stored in different file formats. More specifically, you will work with <b><i>text files (.txt)</i></b>, <b><i>comma-seperated values files</i></b> (.csv), and <b><i>Excel spreadsheets (.xls)</i></b>. \n",
    "\n",
    "<h3><b><i>Background</i></b></h3>\n",
    "This Case Study continues examining the <b><i>Wholesale Market Price</i></b> dataset from the USDA.\n",
    "\n",
    "<h3><b><i>Goal</i></b></h3>\n",
    "The goal of this Case Study is to examine wholesale market prices for organic and conventional produce for selected vegetables in the years <b><i>2012 & 2013</i></b>. You will practice what you've learned in DataCamp's <a href = \"https://learn.datacamp.com/courses/python-data-science-toolbox-part-2\">Python Data Science Toolbox (Part 2)</a> and <a href = \"https://learn.datacamp.com/courses/introduction-to-importing-data-in-python\">Introduction to Importing Data with Python</a> by importing and working with different file types</i></b> to access, visualize, and examine the data. \n",
    "\n",
    "<h3><b><i>Data</i></b></h3>\n",
    "The dataset used in this exercise is the <a href = \"https://www.ers.usda.gov/data-products/organic-prices.aspx\"> Wholesale Market Prices dataset</a> from the USDA [1]. This data contains wholesale prices for both organic and conventional produce for the years 2012 & 2013. This dataset includes price per month, the amount of produce for the wholesale price, as well as other data. You will be working with modified subsets of the 2012 & 2013 data stored as <b><i>.txt</i></b> and <b><i>.csv</i></b> files as well as the original data which is stored in an <b><i>Excel spreadsheet</i></b>. \n",
    "\n",
    "Sources: \n",
    "<ol style = \"font-size:8px\">\n",
    "    <li>USDA. 2021. Organic Price : Wholesale vegetable prices, organic and conventional, monthly and annual, 2012-13. USDA ERS. https://www.ers.usda.gov/data-products/organic-prices.aspx </li>\n",
    "</ol>\n",
    "\n"
   ]
  },
  {
   "cell_type": "markdown",
   "id": "e8428632",
   "metadata": {},
   "source": [
    "<h3>Flat file imports</h3>\n",
    "\n",
    "In this section, you will practice <span class=\"bltn\">opening</span> and <span class=\"bltn\">reading</span> <b><i>csv</i></b> and <b><i>text</i></b> files. "
   ]
  },
  {
   "cell_type": "markdown",
   "id": "34d0c789",
   "metadata": {},
   "source": [
    "<h4><u>Import Statements</u></h4>"
   ]
  },
  {
   "cell_type": "code",
   "execution_count": 23,
   "id": "7700f764",
   "metadata": {},
   "outputs": [],
   "source": [
    "# Import libraries and modules here\n",
    "import pandas as pd\n",
    "import numpy as np\n",
    "import matplotlib.pyplot as plt"
   ]
  },
  {
   "cell_type": "markdown",
   "id": "e22b3976",
   "metadata": {},
   "source": [
    "<h4><u>Setting the File Names</u></h4>\n",
    "\n",
    "The <span class=\"str\">file_name</span> and <span class=\"str\">file_name_csv</span> variables contain the file path and name of the <b><i>text</i></b> and <b><i>csv</i></b> files used for this section. Both of these files contain the same data. "
   ]
  },
  {
   "cell_type": "code",
   "execution_count": 24,
   "id": "4493d178",
   "metadata": {},
   "outputs": [],
   "source": [
    "# file names to use\n",
    "file_name = 'Data/Vegetables_2012_Cleaned.txt'\n",
    "file_name_csv = 'Data/Vegetables_2012_Cleaned.csv'"
   ]
  },
  {
   "cell_type": "markdown",
   "id": "5495239a",
   "metadata": {},
   "source": [
    "<h4><u>Opening and Reading a Text File</u></h4>\n",
    "\n",
    "In the cell below the file specified by <b><i>file_name</i></b> is first <span class=\"bltn\">opened</span> as a <b><i>file</i></b> object. More information on file objects can be found in <a href = \"https://docs.python.org/3/tutorial/inputoutput.html\"> Python's Input and Output Documentation</a>. A <span class=\"bltn\">for </span> loop is used to read in the first four lines of the text file with the <b>readline</b> method and <span class=\"bltn\">printed</span>. The <span class=\"bltn\">type</span> fifth line in <b><i>file_name</i></b> is read in and the <span class=\"bltn\">type</span> printed. The <b><i>file</i></b> is then <b>closed</b>."
   ]
  },
  {
   "cell_type": "code",
   "execution_count": 25,
   "id": "7e16d81f",
   "metadata": {},
   "outputs": [
    {
     "name": "stdout",
     "output_type": "stream",
     "text": [
      "ï»¿\" Wholesale vegetable prices, organic and conventional, monthly and annual, 2012\", , , , , , , , , , , , , , , , ,\n",
      "\n",
      "Commodity,Subgroup,Package,Organic/ Conventional,Terminal Market,12-Jan,12-Feb,12-Mar,12-Apr,12-May,12-Jun,12-Jul,12-Aug,12-Sep,12-Oct,12-Nov,12-Dec, 2012\n",
      "\n",
      "Artichoke (SF only),Globe,cartons  24s,Conv,San Fran,28.58,30,30.94,18.5,13.48,17.83,30,35.26,25.75,24.66,23.47,26.29,24.12\n",
      "\n",
      "Artichoke (SF only),Globe,cartons  24s,Org,San Fran,37.34,35.46,N\\A,N\\A,N\\A,30.31,35,40.12,45.5,40.47,32.76,32.5,36.88\n",
      "\n",
      "<class 'str'>\n"
     ]
    }
   ],
   "source": [
    "# Read and print the first four lines of the file using the with open('file_name') as file syntax. \n",
    "# For the fifth line of the file, print the data type returned by file.readline()\n",
    "with open(file_name) as file: \n",
    "    for i in range(0, 4): \n",
    "        # print lines 1 - 4 of the file with file.readline() and print\n",
    "        print(file.readline())\n",
    "    # print 5th file.readline()'s data type\n",
    "    print(type(file.readline(5)))\n",
    "# Close the file \n",
    "file.close()"
   ]
  },
  {
   "cell_type": "markdown",
   "id": "754237ab",
   "metadata": {},
   "source": [
    "<h4><u>Opening and Reading a Text File with NumPy</u></h4>\n",
    "\n",
    "The variable <b><i>ws_np</i></b> contains the results of reading in a <b><i>text</i></b> file using NumPy's <b>loadtxt</b> function. Let's read the <b><i>Wholesale Market Price</i></b> data in using this. "
   ]
  },
  {
   "cell_type": "code",
   "execution_count": 26,
   "id": "4a3c6e25",
   "metadata": {},
   "outputs": [
    {
     "ename": "ValueError",
     "evalue": "Wrong number of columns at line 2",
     "output_type": "error",
     "traceback": [
      "\u001b[1;31m---------------------------------------------------------------------------\u001b[0m",
      "\u001b[1;31mValueError\u001b[0m                                Traceback (most recent call last)",
      "\u001b[1;32mc:\\Users\\jbobb\\Documents\\Git Pull\\M03-python-data-science-2\\Case_Study_-_Wholesale_Market_Prices_-_Part_2_-_Student.ipynb Cell 11\u001b[0m in \u001b[0;36m<cell line: 3>\u001b[1;34m()\u001b[0m\n\u001b[0;32m      <a href='vscode-notebook-cell:/c%3A/Users/jbobb/Documents/Git%20Pull/M03-python-data-science-2/Case_Study_-_Wholesale_Market_Prices_-_Part_2_-_Student.ipynb#X13sZmlsZQ%3D%3D?line=0'>1</a>\u001b[0m \u001b[39m# Import the file stored in the file_name variable with NumPy using np.loadtxt(file_name, delimiter =\",\",, dtype = 'str') and store in\u001b[39;00m\n\u001b[0;32m      <a href='vscode-notebook-cell:/c%3A/Users/jbobb/Documents/Git%20Pull/M03-python-data-science-2/Case_Study_-_Wholesale_Market_Prices_-_Part_2_-_Student.ipynb#X13sZmlsZQ%3D%3D?line=1'>2</a>\u001b[0m \u001b[39m# a variable ws_np\u001b[39;00m\n\u001b[1;32m----> <a href='vscode-notebook-cell:/c%3A/Users/jbobb/Documents/Git%20Pull/M03-python-data-science-2/Case_Study_-_Wholesale_Market_Prices_-_Part_2_-_Student.ipynb#X13sZmlsZQ%3D%3D?line=2'>3</a>\u001b[0m ws_np \u001b[39m=\u001b[39m np\u001b[39m.\u001b[39;49mloadtxt(file_name, delimiter \u001b[39m=\u001b[39;49m\u001b[39m'\u001b[39;49m\u001b[39m,\u001b[39;49m\u001b[39m'\u001b[39;49m, dtype \u001b[39m=\u001b[39;49m \u001b[39m'\u001b[39;49m\u001b[39mstr\u001b[39;49m\u001b[39m'\u001b[39;49m)\n\u001b[0;32m      <a href='vscode-notebook-cell:/c%3A/Users/jbobb/Documents/Git%20Pull/M03-python-data-science-2/Case_Study_-_Wholesale_Market_Prices_-_Part_2_-_Student.ipynb#X13sZmlsZQ%3D%3D?line=4'>5</a>\u001b[0m \u001b[39m# Print the result \u001b[39;00m\n\u001b[0;32m      <a href='vscode-notebook-cell:/c%3A/Users/jbobb/Documents/Git%20Pull/M03-python-data-science-2/Case_Study_-_Wholesale_Market_Prices_-_Part_2_-_Student.ipynb#X13sZmlsZQ%3D%3D?line=5'>6</a>\u001b[0m \u001b[39mprint\u001b[39m(ws_np)\n",
      "File \u001b[1;32mc:\\Users\\jbobb\\miniconda3\\lib\\site-packages\\numpy\\lib\\npyio.py:1148\u001b[0m, in \u001b[0;36mloadtxt\u001b[1;34m(fname, dtype, comments, delimiter, converters, skiprows, usecols, unpack, ndmin, encoding, max_rows, like)\u001b[0m\n\u001b[0;32m   1143\u001b[0m \u001b[39m# read data in chunks and fill it into an array via resize\u001b[39;00m\n\u001b[0;32m   1144\u001b[0m \u001b[39m# over-allocating and shrinking the array later may be faster but is\u001b[39;00m\n\u001b[0;32m   1145\u001b[0m \u001b[39m# probably not relevant compared to the cost of actually reading and\u001b[39;00m\n\u001b[0;32m   1146\u001b[0m \u001b[39m# converting the data\u001b[39;00m\n\u001b[0;32m   1147\u001b[0m X \u001b[39m=\u001b[39m \u001b[39mNone\u001b[39;00m\n\u001b[1;32m-> 1148\u001b[0m \u001b[39mfor\u001b[39;00m x \u001b[39min\u001b[39;00m read_data(_loadtxt_chunksize):\n\u001b[0;32m   1149\u001b[0m     \u001b[39mif\u001b[39;00m X \u001b[39mis\u001b[39;00m \u001b[39mNone\u001b[39;00m:\n\u001b[0;32m   1150\u001b[0m         X \u001b[39m=\u001b[39m np\u001b[39m.\u001b[39marray(x, dtype)\n",
      "File \u001b[1;32mc:\\Users\\jbobb\\miniconda3\\lib\\site-packages\\numpy\\lib\\npyio.py:995\u001b[0m, in \u001b[0;36mloadtxt.<locals>.read_data\u001b[1;34m(chunk_size)\u001b[0m\n\u001b[0;32m    993\u001b[0m \u001b[39mif\u001b[39;00m \u001b[39mlen\u001b[39m(vals) \u001b[39m!=\u001b[39m N:\n\u001b[0;32m    994\u001b[0m     line_num \u001b[39m=\u001b[39m i \u001b[39m+\u001b[39m skiprows \u001b[39m+\u001b[39m \u001b[39m1\u001b[39m\n\u001b[1;32m--> 995\u001b[0m     \u001b[39mraise\u001b[39;00m \u001b[39mValueError\u001b[39;00m(\u001b[39m\"\u001b[39m\u001b[39mWrong number of columns at line \u001b[39m\u001b[39m%d\u001b[39;00m\u001b[39m\"\u001b[39m\n\u001b[0;32m    996\u001b[0m                      \u001b[39m%\u001b[39m line_num)\n\u001b[0;32m    998\u001b[0m \u001b[39m# Convert each value according to its column and store\u001b[39;00m\n\u001b[0;32m    999\u001b[0m items \u001b[39m=\u001b[39m [conv(val) \u001b[39mfor\u001b[39;00m (conv, val) \u001b[39min\u001b[39;00m \u001b[39mzip\u001b[39m(converters, vals)]\n",
      "\u001b[1;31mValueError\u001b[0m: Wrong number of columns at line 2"
     ]
    }
   ],
   "source": [
    "# Import the file stored in the file_name variable with NumPy using np.loadtxt(file_name, delimiter =\",\",, dtype = 'str') and store in\n",
    "# a variable ws_np\n",
    "ws_np = np.loadtxt(file_name, delimiter =',', dtype = 'str')\n",
    "\n",
    "# Print the result \n",
    "print(ws_np)"
   ]
  },
  {
   "cell_type": "markdown",
   "id": "8db55371",
   "metadata": {},
   "source": [
    "<h4><u>NumPy Loadtxt Error</u></h4>\n",
    "\n",
    "The first row of the <b><i>Vegetables_2012_Cleaned.txt</i></b> file which contains the data description (row at <span class=\"num\">position 0</span> for Python) was purposely not skipped in the cell above. The result is that NumPy's loadtxt function cannot read the file.\n",
    "\n",
    "The first line in the file contains the text: <span class=\"str\">\" Wholesale vegetable prices, organic and conventional, monthly and annual, 2012\"</span>.  Can you guess why there is a problem reading in this line? \n",
    "\n",
    "To fix this add skiprows = 0 to np.loadtxt() to skip the first row of the file."
   ]
  },
  {
   "cell_type": "code",
   "execution_count": null,
   "id": "c81d69da",
   "metadata": {},
   "outputs": [
    {
     "name": "stdout",
     "output_type": "stream",
     "text": [
      "[['Artichoke (SF only)' 'Globe' 'cartons  24s' 'Conv' 'San Fran' '28.58'\n",
      "  '30' '30.94' '18.5' '13.48' '17.83' '30' '35.26' '25.75' '24.66'\n",
      "  '23.47' '26.29' '24.12']\n",
      " ['Artichoke (SF only)' 'Globe' 'cartons  24s' 'Org' 'San Fran' '37.34'\n",
      "  '35.46' 'N\\\\A' 'N\\\\A' 'N\\\\A' '30.31' '35' '40.12' '45.5' '40.47'\n",
      "  '32.76' '32.5' '36.88']\n",
      " ['Cabbage' 'Round green type' '40 lb cartons  medium' 'Conv' 'Atlanta'\n",
      "  'N\\\\A' 'N\\\\A' 'N\\\\A' 'N\\\\A' 'N\\\\A' 'N\\\\A' 'N\\\\A' '16.5' 'N\\\\A' 'N\\\\A'\n",
      "  'N\\\\A' 'N\\\\A' '16.5']\n",
      " ['Cabbage' 'Round green type' '45 lb cartons  medium' 'Org' 'Atlanta'\n",
      "  '33.95' '36.35' '29.59' '24.43' '29' '32.94' 'N\\\\A' '52.77' '45.5'\n",
      "  '36.78' '42' '45.65' '37.67']\n",
      " ['Cabbage' 'Round green type' '45 lb cartons  18-24s' 'Conv' 'San Fran'\n",
      "  '14.85' '8.4' '10.37' '8.77' '9.73' '10.81' '10.78' '11.76' '15.86'\n",
      "  '19.19' '19.16' '15.85' '12.87']\n",
      " ['Cabbage' 'Round green type' '45 lb cartons  18-24s' 'Org' 'San Fran'\n",
      "  'N\\\\A' '28.59' '25.8' '24.25' '24.42' '24.38' '26.7' '38.79' '50.29'\n",
      "  '38.84' '34.5' '32.53' '33.12']\n",
      " ['Carrots' 'Not specified' '25 lb sacks loose' 'Conv' 'Atlanta' '12.5'\n",
      "  '12.25' '11.5' '11.81' '11.08' '12.68' '12.61' '12.59' '12.5' '12.5'\n",
      "  '12.5' '12.5' '12.18']\n",
      " ['Carrots' 'Not specified' '25 lb sacks loose' 'Org' 'Atlanta' '24.97'\n",
      "  '23.93' '30.63' '28.39' '31.39' '31.25' '31.4' '30.51' '30.73' '26.64'\n",
      "  '26.38' '24.5' '28.35']\n",
      " ['Carrots' 'Topped' '25 lb sacks loose' 'Conv' 'San Fran' '6.6' '7.28'\n",
      "  '6.87' '6.71' '8.03' '7.84' '9.23' '8.33' '8.69' '7.72' '8.41' '8.96'\n",
      "  '7.89']\n",
      " ['Carrots' 'Topped' '25 lb sacks loose' 'Org' 'San Fran' '22' '22' '22'\n",
      "  '22' '22' '21.96' '21.25' '21.9' '22' '21.73' '21' '21' '21.75']\n",
      " ['Cauliflower' 'White' 'cartons  film wrapped  12s' 'Conv' 'Atlanta'\n",
      "  '15.03' '12.84' '17.93' '14.62' '15.66' '18.83' '15.32' '16.22' '18.12'\n",
      "  '15.42' '19.02' '18.67' '16.03']\n",
      " ['Cauliflower' 'White' 'cartons  film wrapped  12s' 'Org' 'Atlanta'\n",
      "  'N\\\\A' 'N\\\\A' 'N\\\\A' 'N\\\\A' '35.97' '35' '44.45' '39.91' '38' '37.5'\n",
      "  '38.6' '38.75' '38.74']\n",
      " ['Cauliflower' 'White' 'cartons  film wrapped  12s' 'Conv' 'San Fran'\n",
      "  '11.24' '9.75' '13.88' '10.32' '12.18' '12.68' '10.26' '10.12' '12.87'\n",
      "  '10.07' '16.44' '14.83' '12.01']\n",
      " ['Cauliflower' 'White' 'cartons  film wrapped  12s' 'Org' 'San Fran'\n",
      "  '20.1' '17.83' '23.42' '33' '21' '24.75' '29.18' '22.5' 'N\\\\A' 'N\\\\A'\n",
      "  '23.5' '25.5' '24.1']\n",
      " ['Greens' 'Swiss Chard mixed colors' 'cartons bunched  24s' 'Conv'\n",
      "  'Atlanta' '25.03' '25.5' '25.5' '24.98' '24.5' 'N\\\\A' 'N\\\\A' 'N\\\\A'\n",
      "  'N\\\\A' 'N\\\\A' 'N\\\\A' 'N\\\\A' '25.18']\n",
      " ['Greens' 'Swiss Chard  mixed ' 'cartons bunched  24s' 'Org' 'Atlanta'\n",
      "  'N\\\\A' '32.21' '35.39' '38' '47.37' '50.25' 'N\\\\A' 'N\\\\A' 'N\\\\A' 'N\\\\A'\n",
      "  'N\\\\A' '35' '39.34']\n",
      " ['Greens' 'Swiss Chard mixed colors' 'cartons bunched  24s' 'Conv'\n",
      "  'San Fran' 'N\\\\A' 'N\\\\A' 'N\\\\A' 'N\\\\A' 'N\\\\A' 'N\\\\A' 'N\\\\A' 'N\\\\A'\n",
      "  'N\\\\A' 'N\\\\A' '8.5' 'N\\\\A' '8.5']\n",
      " ['Greens' 'Swiss Chard mixed colors' 'cartons bunched  24s' 'Org'\n",
      "  'San Fran' '23.81' '22.59' '20.54' '18.86' '23.26' '16.87' '12.75'\n",
      "  '17.28' '16.29' '14.45' '12.87' '13.33' '18.13']\n",
      " ['Lettuce' 'Green leaf' 'cartons  24s' 'Conv' 'Atlanta' '18.84' '14.12'\n",
      "  '13.05' '15.98' '17.15' '15.94' '19.12' '20.76' '18.68' '15.34' '15.83'\n",
      "  '14.2' '16.55']\n",
      " ['Lettuce' 'Green leaf' 'cartons  24s' 'Org' 'Atlanta' '36.74' '32.06'\n",
      "  '34.13' '39.36' '36.1' '42.88' '36.26' '37.43' '50.5' '42.17' '43.5'\n",
      "  '44' '38.79']\n",
      " ['Lettuce' 'Green leaf' 'cartons  24s' 'Conv' 'San Fran' '16.75' '14.14'\n",
      "  '12.68' '13.55' '14.64' '12.33' '17.1' '17.57' '15.05' '12.44' '13.51'\n",
      "  '14.67' '14.53']\n",
      " ['Lettuce' 'Green leaf' 'cartons  24s' 'Org' 'San Fran' '20.07' '18.4'\n",
      "  '21.72' '24.67' '20.13' '25.68' '20.18' '25.91' '30.13' '28.27' '30.83'\n",
      "  '27.17' '24.61']\n",
      " ['Lettuce' 'Romaine' 'cartons  24s' 'Conv' 'Atlanta' '17.59' '14.8'\n",
      "  '14.02' '16.52' '17.44' '17.62' '22.01' '24.88' '20.95' '17.25' '18.58'\n",
      "  '16.13' '18.19']\n",
      " ['Lettuce' 'Romaine' 'cartons  24s' 'Org' 'Atlanta' '40.31' '34.7'\n",
      "  '31.2' '39.38' '37.6' '44.15' '41' '41.01' '53.14' '43.01' '39.5' '54'\n",
      "  '41.14']\n",
      " ['Lettuce' 'Romaine' 'cartons  24s' 'Conv' 'San Fran' '16' '13.64'\n",
      "  '12.75' '13.38' '13.58' '12.55' '18.19' '19.33' '15.7' '12.63' '14.94'\n",
      "  '14.93' '14.8']\n",
      " ['Lettuce' 'Romaine' 'cartons  24s' 'Org' 'San Fran' '28.4' '23.04'\n",
      "  '28.82' '30.11' '18.14' '29.39' '23.8' '30.39' '31.84' '25.77' '38.72'\n",
      "  '31.22' '28.96']\n",
      " ['Mesculin Mix' '' '3 lb cartons' 'Conv' 'Atlanta' '8' '8' '7.89' '7.75'\n",
      "  '7.75' '7.75' '7.75' '7.75' '7.75' '7.75' '7.75' '7.75' '7.8']\n",
      " ['Mesculin Mix' '' '3 lb cartons' 'Org' 'Atlanta' '18' 'N\\\\A' 'N\\\\A'\n",
      "  '18' '18' '18' '17.63' '18.67' '20.83' '19.91' '15.43' '17.48' '17.48']\n",
      " ['Mesculin Mix' '' '3 lb cartons' 'Conv' 'San Fran' '5.25' '5.25' '5.33'\n",
      "  '5.38' '5.38' '5.38' '5.38' '5.38' '5.43' '5.5' '5.5' '5.5' '5.39']\n",
      " ['Mesculin Mix' '' '3 lb cartons' 'Org' 'San Fran' '6.5' '6.5' '6.17'\n",
      "  '6' '6' '6' '6' '6' '6' '6' '6' '6' '6.1']\n",
      " ['Onions Dry' 'Yellow Hybrid' 'All packages - no 40 lb cartons  JBO'\n",
      "  'Conv' 'Atlanta' '11.91' '10.01' '9.68' '12.5' '15.5' 'N\\\\A' '16.39'\n",
      "  '16.64' '12.47' '11.57' '12.9' '16.55' '13.29']\n",
      " ['Onions Dry' 'Yellow Hybrid' '40 lb cartons  JBO' 'Org' 'Atlanta'\n",
      "  '29.24' '29.89' '30.59' '32.38' 'N\\\\A' '49.75' '48.38' '49.72' '47.34'\n",
      "  '34.18' '32.69' '32' '36.85']\n",
      " ['Onions Dry' 'Yellow Hybrid' '40 lb cartons  JBO' 'Conv' 'San Fran'\n",
      "  '20.25' '14.5' '20.25' 'N\\\\A' 'N\\\\A' 'N\\\\A' 'N\\\\A' 'N\\\\A' 'N\\\\A' 'N\\\\A'\n",
      "  'N\\\\A' 'N\\\\A' '17.66']\n",
      " ['Onions Dry' 'Yellow Hybrid' '40 lb cartons  JBO' 'Org' 'San Fran'\n",
      "  '19.88' '19.47' '19.75' 'N\\\\A' 'N\\\\A' 'N\\\\A' 'N\\\\A' 'N\\\\A' 'N\\\\A'\n",
      "  'N\\\\A' 'N\\\\A' 'N\\\\A' '19.68']\n",
      " ['Spinach' 'Flat' 'cartons  bunched  24s' 'Conv' 'Atlanta' '20.32'\n",
      "  '19.88' '19.06' '19.42' '18.23' '19.78' '17.44' '20.65' '24.16' '19.24'\n",
      "  '19.48' '16.58' '19.44']\n",
      " ['Spinach' 'Flat' 'cartons  bunched  24s' 'Org' 'Atlanta' 'N\\\\A' 'N\\\\A'\n",
      "  'N\\\\A' 'N\\\\A' 'N\\\\A' 'N\\\\A' 'N\\\\A' 'N\\\\A' '64.2' '42.57' 'N\\\\A' 'N\\\\A'\n",
      "  '48.26']\n",
      " ['Spinach' 'Flat' 'cartons  bunched  24s' 'Conv' 'San Fran' '14.23'\n",
      "  '12.39' '12.4' '12.75' '10.84' '14.04' '10.93' '15.84' '15' '11.58'\n",
      "  '13.82' '11.58' '13']\n",
      " ['Spinach' 'Flat' 'cartons  bunched  24s' 'Org' 'San Fran' '28.24'\n",
      "  '38.69' '41' '37.25' 'N\\\\A' '32.48' '41.13' '46.55' '43.16' '35.48'\n",
      "  '34.39' '30.73' '37.3']\n",
      " ['Potatoes' 'Russet' '50 lb cartons  US. No.1' 'Conv' 'Atlanta' '16.26'\n",
      "  '15.95' '17.7' '19.13' '18.43' '17.02' '15.91' '16.37' '14' '11.82'\n",
      "  '12.09' '12.2' '15.55']\n",
      " ['Potatoes' 'Russet' '50 lb cartons  US. No.1' 'Org' 'Atlanta' '46.5'\n",
      "  '46.5' '51.03' '55.63' 'N\\\\A' 'N\\\\A' '64' '64.63' '53.58' '51.84' '48'\n",
      "  '48' '51.08']\n",
      " ['Potatoes' 'Russet' '50 lb cartons  US. No.1' 'Conv' 'San Fran' '12.96'\n",
      "  '12.77' '14.05' '14.58' '14.41' '13.43' '12.43' '12.64' '9.56' '8.62'\n",
      "  '9.11' '10.11' '12.32']\n",
      " ['Potatoes' 'Russet' '50 lb cartons  US. No.1' 'Org' 'San Fran' '29.33'\n",
      "  'N\\\\A' 'N\\\\A' 'N\\\\A' 'N\\\\A' 'N\\\\A' '49.02' '48.47' '45.63' '39.93'\n",
      "  '34.03' '32.25' '39.07']\n",
      " ['Tomatoes Cherry' 'no Pear type' 'no Flats 12 1/2 pt cups with lids'\n",
      "  'Conv' 'Atlanta' '11.71' '9.91' '11.16' '10.82' '12.51' '16.89' '17.06'\n",
      "  '14.39' '15.37' '17.14' '13.24' '14.02' '13.94']\n",
      " ['Tomatoes Cherry' 'no Pear type' 'no Flats 12 1/2 pt cups with lids'\n",
      "  'Org' 'Atlanta' 'N\\\\A' 'N\\\\A' 'N\\\\A' '26.17' '27.64' 'N\\\\A' 'N\\\\A'\n",
      "  'N\\\\A' 'N\\\\A' '29.7' 'N\\\\A' 'N\\\\A' '27.76']\n",
      " ['Tomatoes Cherry' 'no Pear type' 'Flats 12 1-pt cups with lids' 'Conv'\n",
      "  'San Fran' 'N\\\\A' 'N\\\\A' 'N\\\\A' '11.5' '11.5' 'N\\\\A' 'N\\\\A' '16' 'N\\\\A'\n",
      "  'N\\\\A' 'N\\\\A' 'N\\\\A' '15.1']\n",
      " ['Tomatoes Cherry' 'Pear type' 'Flats 12 1/2 pt cups with lids' 'Org'\n",
      "  'San Fran' '40.63' '35.7' '35.15' '33.25' '36.85' '38.88' '35.5'\n",
      "  '36.87' '37' '41.14' '44' '49.83' '37.93']\n",
      " ['Sweet Potatoes' 'Orange types' '40 lb cartons  U.S. No 1' 'Conv'\n",
      "  'Atlanta' '20.14' '19.99' '19.51' '19.25' '19' '19' '19.39' '19.25'\n",
      "  '18.21' '18.08' '19.15' '18.89' '19.14']\n",
      " ['Sweet Potatoes' 'Orange types' '40 lb cartons  U.S. No 1' 'Org'\n",
      "  'Atlanta' '44.32' '45.36' '43.86' '44.25' '33.61' '31.25' '43.39'\n",
      "  '41.25' '41.18' '34.69' '29.88' '34.13' '38.19']\n",
      " ['Sweet Potatoes' 'Orange types' '40 lb cartons  U.S. No 1' 'Conv'\n",
      "  'San Fran' '21' '21' '21.62' '24.32' 'N\\\\A' '25' '25' '28.6' '28.05'\n",
      "  '27.18' '26' '25.44' '24.63']\n",
      " ['Sweet Potatoes' 'Orange types' '40 lb cartons  U.S. No 1' 'Org'\n",
      "  'San Fran' '28.5' '28.5' '30.04' '32.5' 'N\\\\A' '30' '30' '47.39'\n",
      "  '42.41' '39.86' '32.26' '30.44' '34.08']]\n"
     ]
    }
   ],
   "source": [
    "# Import the file stored in the file_name variable with NumPy using np.loadtxt(file_name, delimiter =\",\", dtype = 'str', skiprows = 2) \n",
    "# and store in variable ws_np\n",
    "ws_np = np.loadtxt(file_name, delimiter =\",\", dtype = 'str', skiprows = 2)\n",
    "\n",
    "# print the contents of the op_np variable\n",
    "print(ws_np)"
   ]
  },
  {
   "cell_type": "markdown",
   "id": "20e34cf1",
   "metadata": {},
   "source": [
    "<h4><u>NumPy Loadtxt Error - Discussion </u></h4>\n",
    "\n",
    "NumPy's <b>loadtxt</b> function was able to load the text file the second time due to the first row of the text file being skipped using <b><i>skiprows</i></b> <span class=\"op\">=</span> <span class=\"num\">1</span>. This allowed the <span class=\"str\">\"Wholesale vegetable prices, organic and conventional, monthly and annual, 2012\"</span> row to be skipped. The problem occurs due to the loadtxt function parsing each <span class=\"str\">\",\"</span> in that phrase. \n",
    "\n",
    "The <span class=\"str\">\",\"</span> character was specified as the <b><i>delimiter</i></b> for the <b>loadtxt</b> function which led it to treating the string <span class = \"str\">\"Wholesale vegetable prices, organic and conventional, monthly and annual, 2012\"</span> as seperate values. This resulted in more columns in the first row than existed in the rest of the dataset. \n",
    "\n",
    "The rest of the <b><i>'Vegetables_2012_Cleaned.txt'</i></b> has had the commas removed so that it can be loaded in correctly with the <b>loadtxt</b> function. Another potentional solution is to use a different <b><i>delimiter</i></b> instead of <span class=\"str\">\",\"</span>. "
   ]
  },
  {
   "cell_type": "markdown",
   "id": "6fda0c26",
   "metadata": {},
   "source": [
    "<h4><u>Accessing Loadtxt's Multidimensional Array</u></h4>\n",
    "\n",
    "The value returned by <b>loadtxt</b> is a <b><i>multidimensional array</i></b>. <span class=\"bltn\">Print</span> the data <span class=\"bltn\">type</span> of <b><i>ws_np</i></b>. Access and <span class=\"bltn\">print</span> the value in the 8th column <span class=\"num\">index 7</span> in the first row <span class=\"num\">index 0</span>. Then <span class=\"bltn\">print</span> the <span class=\"bltn\">type</span> of that value. "
   ]
  },
  {
   "cell_type": "code",
   "execution_count": null,
   "id": "ac309865",
   "metadata": {},
   "outputs": [
    {
     "name": "stdout",
     "output_type": "stream",
     "text": [
      "<class 'numpy.ndarray'>\n",
      "30.94 <class 'numpy.str_'>\n"
     ]
    }
   ],
   "source": [
    "# Print the type of the ws_np variable\n",
    "print(type(ws_np))\n",
    "# Print the value and its type for the value located at ws_np[0][:][7]\n",
    "print(ws_np[0][:][7] + ' ' + str(type(ws_np[0][:][7])))"
   ]
  },
  {
   "cell_type": "markdown",
   "id": "af81b228",
   "metadata": {},
   "source": [
    "<h4><u>Reading Text and CSV Files with Pandas</u></h4>\n",
    "\n",
    "Pandas can also be used to read a text file using <b>read_csv</b>. The <b>read_csv</b> function can also be used to read in <b><i>csv</i></b> files into a <b><i>DataFrame</i></b>. In the Code cell below the <b><i>text</i></b> file, <b><i>file_name</i></b> is stored in the variable <b><i>ws_txt_df</i></b>. "
   ]
  },
  {
   "cell_type": "code",
   "execution_count": null,
   "id": "0faf9ec3",
   "metadata": {},
   "outputs": [],
   "source": [
    "# Read in the text file file_name variable using pandas and store as ws_txt_df with pd.read_csv(file_name)\n",
    "ws_txt_df = pd.read_csv(file_name)"
   ]
  },
  {
   "cell_type": "markdown",
   "id": "697be623",
   "metadata": {},
   "source": [
    "In the Code cell below the <b><i>csv</i></b> file is read in as <b><i>ws_csv_df</i></b>. "
   ]
  },
  {
   "cell_type": "code",
   "execution_count": null,
   "id": "e020d9ba",
   "metadata": {},
   "outputs": [],
   "source": [
    "# Read in the csv file file_name csv using pandas and store as ws_csv_df with pd.read_csv(file_name_csv)\n",
    "ws_csv_df = pd.read_csv(file_name_csv)"
   ]
  },
  {
   "cell_type": "markdown",
   "id": "d1e7b513",
   "metadata": {},
   "source": [
    "Next let's check to see if the contents of the two <b><i>DataFrames</i></b> are equal using the <b>equals</b> method. "
   ]
  },
  {
   "cell_type": "code",
   "execution_count": null,
   "id": "7430cee5",
   "metadata": {},
   "outputs": [
    {
     "name": "stdout",
     "output_type": "stream",
     "text": [
      "     Wholesale vegetable prices, organic and conventional, monthly and annual, 2012  \\\n",
      "0                                                True                                 \n",
      "1                                                True                                 \n",
      "2                                                True                                 \n",
      "3                                                True                                 \n",
      "4                                                True                                 \n",
      "5                                                True                                 \n",
      "6                                                True                                 \n",
      "7                                                True                                 \n",
      "8                                                True                                 \n",
      "9                                                True                                 \n",
      "10                                               True                                 \n",
      "11                                               True                                 \n",
      "12                                               True                                 \n",
      "13                                               True                                 \n",
      "14                                               True                                 \n",
      "15                                               True                                 \n",
      "16                                               True                                 \n",
      "17                                               True                                 \n",
      "18                                               True                                 \n",
      "19                                               True                                 \n",
      "20                                               True                                 \n",
      "21                                               True                                 \n",
      "22                                               True                                 \n",
      "23                                               True                                 \n",
      "24                                               True                                 \n",
      "25                                               True                                 \n",
      "26                                               True                                 \n",
      "27                                               True                                 \n",
      "28                                               True                                 \n",
      "29                                               True                                 \n",
      "30                                               True                                 \n",
      "31                                               True                                 \n",
      "32                                               True                                 \n",
      "33                                               True                                 \n",
      "34                                               True                                 \n",
      "35                                               True                                 \n",
      "36                                               True                                 \n",
      "37                                               True                                 \n",
      "38                                               True                                 \n",
      "39                                               True                                 \n",
      "40                                               True                                 \n",
      "41                                               True                                 \n",
      "42                                               True                                 \n",
      "43                                               True                                 \n",
      "44                                               True                                 \n",
      "45                                               True                                 \n",
      "46                                               True                                 \n",
      "47                                               True                                 \n",
      "48                                               True                                 \n",
      "49                                               True                                 \n",
      "50                                               True                                 \n",
      "\n",
      "             .1    .2    .3    .4    .5    .6    .7    .8    .9   .10   .11  \\\n",
      "0    True  True  True  True  True  True  True  True  True  True  True  True   \n",
      "1    True  True  True  True  True  True  True  True  True  True  True  True   \n",
      "2    True  True  True  True  True  True  True  True  True  True  True  True   \n",
      "3    True  True  True  True  True  True  True  True  True  True  True  True   \n",
      "4    True  True  True  True  True  True  True  True  True  True  True  True   \n",
      "5    True  True  True  True  True  True  True  True  True  True  True  True   \n",
      "6    True  True  True  True  True  True  True  True  True  True  True  True   \n",
      "7    True  True  True  True  True  True  True  True  True  True  True  True   \n",
      "8    True  True  True  True  True  True  True  True  True  True  True  True   \n",
      "9    True  True  True  True  True  True  True  True  True  True  True  True   \n",
      "10   True  True  True  True  True  True  True  True  True  True  True  True   \n",
      "11   True  True  True  True  True  True  True  True  True  True  True  True   \n",
      "12   True  True  True  True  True  True  True  True  True  True  True  True   \n",
      "13   True  True  True  True  True  True  True  True  True  True  True  True   \n",
      "14   True  True  True  True  True  True  True  True  True  True  True  True   \n",
      "15   True  True  True  True  True  True  True  True  True  True  True  True   \n",
      "16   True  True  True  True  True  True  True  True  True  True  True  True   \n",
      "17   True  True  True  True  True  True  True  True  True  True  True  True   \n",
      "18   True  True  True  True  True  True  True  True  True  True  True  True   \n",
      "19   True  True  True  True  True  True  True  True  True  True  True  True   \n",
      "20   True  True  True  True  True  True  True  True  True  True  True  True   \n",
      "21   True  True  True  True  True  True  True  True  True  True  True  True   \n",
      "22   True  True  True  True  True  True  True  True  True  True  True  True   \n",
      "23   True  True  True  True  True  True  True  True  True  True  True  True   \n",
      "24   True  True  True  True  True  True  True  True  True  True  True  True   \n",
      "25   True  True  True  True  True  True  True  True  True  True  True  True   \n",
      "26   True  True  True  True  True  True  True  True  True  True  True  True   \n",
      "27  False  True  True  True  True  True  True  True  True  True  True  True   \n",
      "28  False  True  True  True  True  True  True  True  True  True  True  True   \n",
      "29  False  True  True  True  True  True  True  True  True  True  True  True   \n",
      "30  False  True  True  True  True  True  True  True  True  True  True  True   \n",
      "31   True  True  True  True  True  True  True  True  True  True  True  True   \n",
      "32   True  True  True  True  True  True  True  True  True  True  True  True   \n",
      "33   True  True  True  True  True  True  True  True  True  True  True  True   \n",
      "34   True  True  True  True  True  True  True  True  True  True  True  True   \n",
      "35   True  True  True  True  True  True  True  True  True  True  True  True   \n",
      "36   True  True  True  True  True  True  True  True  True  True  True  True   \n",
      "37   True  True  True  True  True  True  True  True  True  True  True  True   \n",
      "38   True  True  True  True  True  True  True  True  True  True  True  True   \n",
      "39   True  True  True  True  True  True  True  True  True  True  True  True   \n",
      "40   True  True  True  True  True  True  True  True  True  True  True  True   \n",
      "41   True  True  True  True  True  True  True  True  True  True  True  True   \n",
      "42   True  True  True  True  True  True  True  True  True  True  True  True   \n",
      "43   True  True  True  True  True  True  True  True  True  True  True  True   \n",
      "44   True  True  True  True  True  True  True  True  True  True  True  True   \n",
      "45   True  True  True  True  True  True  True  True  True  True  True  True   \n",
      "46   True  True  True  True  True  True  True  True  True  True  True  True   \n",
      "47   True  True  True  True  True  True  True  True  True  True  True  True   \n",
      "48   True  True  True  True  True  True  True  True  True  True  True  True   \n",
      "49   True  True  True  True  True  True  True  True  True  True  True  True   \n",
      "50   True  True  True  True  True  True  True  True  True  True  True  True   \n",
      "\n",
      "     .12   .13   .14   .15  Unnamed: 17  \n",
      "0   True  True  True  True         True  \n",
      "1   True  True  True  True         True  \n",
      "2   True  True  True  True         True  \n",
      "3   True  True  True  True         True  \n",
      "4   True  True  True  True         True  \n",
      "5   True  True  True  True         True  \n",
      "6   True  True  True  True         True  \n",
      "7   True  True  True  True         True  \n",
      "8   True  True  True  True         True  \n",
      "9   True  True  True  True         True  \n",
      "10  True  True  True  True         True  \n",
      "11  True  True  True  True         True  \n",
      "12  True  True  True  True         True  \n",
      "13  True  True  True  True         True  \n",
      "14  True  True  True  True         True  \n",
      "15  True  True  True  True         True  \n",
      "16  True  True  True  True         True  \n",
      "17  True  True  True  True         True  \n",
      "18  True  True  True  True         True  \n",
      "19  True  True  True  True         True  \n",
      "20  True  True  True  True         True  \n",
      "21  True  True  True  True         True  \n",
      "22  True  True  True  True         True  \n",
      "23  True  True  True  True         True  \n",
      "24  True  True  True  True         True  \n",
      "25  True  True  True  True         True  \n",
      "26  True  True  True  True         True  \n",
      "27  True  True  True  True         True  \n",
      "28  True  True  True  True         True  \n",
      "29  True  True  True  True         True  \n",
      "30  True  True  True  True         True  \n",
      "31  True  True  True  True         True  \n",
      "32  True  True  True  True         True  \n",
      "33  True  True  True  True         True  \n",
      "34  True  True  True  True         True  \n",
      "35  True  True  True  True         True  \n",
      "36  True  True  True  True         True  \n",
      "37  True  True  True  True         True  \n",
      "38  True  True  True  True         True  \n",
      "39  True  True  True  True         True  \n",
      "40  True  True  True  True         True  \n",
      "41  True  True  True  True         True  \n",
      "42  True  True  True  True         True  \n",
      "43  True  True  True  True         True  \n",
      "44  True  True  True  True         True  \n",
      "45  True  True  True  True         True  \n",
      "46  True  True  True  True         True  \n",
      "47  True  True  True  True         True  \n",
      "48  True  True  True  True         True  \n",
      "49  True  True  True  True         True  \n",
      "50  True  True  True  True         True  \n"
     ]
    }
   ],
   "source": [
    "# Test if ws_txt_df is equal to ws_csv_df using ws_txt_df.equals(ws_csv_df)\n",
    "print(ws_csv_df == ws_txt_df)"
   ]
  },
  {
   "cell_type": "markdown",
   "id": "b7e96d27",
   "metadata": {},
   "source": [
    "<h3>Working with Excel spreadsheets</h3>\n",
    "\n",
    "In this section, you will practice reading the <b><i>Wholesale Market Price</i></b> data that is stored in an <b><i> Excel Spreadsheet</i></b>. "
   ]
  },
  {
   "cell_type": "markdown",
   "id": "cb57f092",
   "metadata": {},
   "source": [
    "<h4><u>Reading a Spreadsheet with Pandas</u></h4>\n",
    "\n",
    "The <span class=\"str\">xls_file</span> contains the file path and name of a <b><i>spreadsheet</i></b> containing two <b><i>sheets</i></b>. <b><i>ExcelFile</i></b> is used to read the file into an <b><i>ExcelFile</i></b> object called <b><i>ws_xls_df</i></b>. The names of the <b><i>sheets</i></b> in the spreadsheet are then accessed using <b><i>.sheet_names</i></b> and the results <span class=\"bltn\">printed</span>. "
   ]
  },
  {
   "cell_type": "code",
   "execution_count": null,
   "id": "a0cc671f",
   "metadata": {},
   "outputs": [
    {
     "name": "stdout",
     "output_type": "stream",
     "text": [
      "['2013', '2012']\n"
     ]
    }
   ],
   "source": [
    "# File name for Excel spreadsheet\n",
    "xls_file = 'Data/Vegetables.xls'\n",
    "\n",
    "# Import the Excel spreadsheet using panda's pd.ExcelFile(). Store in a variable ws_xls_df\n",
    "ws_xls_df = pd.ExcelFile(xls_file)\n",
    "\n",
    "# Print the sheet names using .sheet_names with the variable you just created in the line of code above \n",
    "print(ws_xls_df.sheet_names)"
   ]
  },
  {
   "cell_type": "markdown",
   "id": "d7f1c1d2",
   "metadata": {},
   "source": [
    "<h4><u>Loading a Sheet</u></h4>\n",
    "\n",
    "Now that we know the names of the <b><i>sheets</i></b>, we can <b><i>parse</i></b> one into a <b><i>DataFrame</i></b> called <b><i>ws_12_df</i></b>. "
   ]
  },
  {
   "cell_type": "code",
   "execution_count": 27,
   "id": "8ec0b9e2",
   "metadata": {},
   "outputs": [
    {
     "name": "stdout",
     "output_type": "stream",
     "text": [
      "             Commodity          Subgroup                Package  \\\n",
      "0  Artichoke (SF only)             Globe           cartons, 24s   \n",
      "1  Artichoke (SF only)             Globe           cartons, 24s   \n",
      "2              Cabbage  Round green type  40 lb cartons, medium   \n",
      "3              Cabbage  Round green type  45 lb cartons, medium   \n",
      "4              Cabbage  Round green type  45 lb cartons, 18-24s   \n",
      "\n",
      "  Organic/ Conventional Terminal Market 2012-01-01 00:00:00  \\\n",
      "0                  Conv        San Fran           28.583333   \n",
      "1                   Org        San Fran            37.34375   \n",
      "2                  Conv         Atlanta                 N\\A   \n",
      "3                   Org         Atlanta           33.945652   \n",
      "4                  Conv        San Fran               14.85   \n",
      "\n",
      "  2012-02-01 00:00:00 2012-03-01 00:00:00 2012-04-01 00:00:00  \\\n",
      "0                  30             30.9375                18.5   \n",
      "1           35.461538                 N\\A                 N\\A   \n",
      "2                 N\\A                 N\\A                 N\\A   \n",
      "3               36.35           29.590909           24.428571   \n",
      "4                 8.4               10.37                8.77   \n",
      "\n",
      "  2012-05-01 00:00:00 2012-06-01 00:00:00 2012-07-01 00:00:00  \\\n",
      "0           13.477273           17.833333                  30   \n",
      "1                 N\\A             30.3125                  35   \n",
      "2                 N\\A                 N\\A                 N\\A   \n",
      "3                  29             32.9375                 N\\A   \n",
      "4                9.73               10.81               10.78   \n",
      "\n",
      "  2012-08-01 00:00:00 2012-09-01 00:00:00 2012-10-01 00:00:00  \\\n",
      "0            35.26087               25.75           24.659091   \n",
      "1           40.119565                45.5           40.473684   \n",
      "2                16.5                 N\\A                 N\\A   \n",
      "3            52.77381                45.5           36.780488   \n",
      "4               11.76               15.86               19.19   \n",
      "\n",
      "  2012-11-01 00:00:00     Dec-12   2012  \n",
      "0           23.473684  26.289474  24.12  \n",
      "1           32.763158       32.5  36.88  \n",
      "2                 N\\A        N\\A  16.50  \n",
      "3                  42  45.647059  37.67  \n",
      "4               19.16      15.85  12.87  \n"
     ]
    }
   ],
   "source": [
    "# Load the 2012 sheet.  Use the variable name ws_12_df.parse() and read in the '2012' sheet.\n",
    "# Skip the first row of the spreadsheet skiprows = [0] because this contains the a summary of the data, not the column names. \n",
    "ws_12_df = ws_xls_df.parse('2012', skiprows = [0])\n",
    "\n",
    "# Display the ws_12_df using .head()\n",
    "print(ws_12_df.head())"
   ]
  },
  {
   "cell_type": "markdown",
   "id": "5a15b743",
   "metadata": {},
   "source": [
    "<h4><u>Modifying DataFrame Column Names</u></h4>\n",
    "\n",
    "The original column names in the <span class=\"str\">2012</span> sheet are rather long. Let's update them with new names by creating a <span class=\"bltn\">list</span> containing the updated names as <span class=\"str\">strings</span> then setting the <b><i>columns</i></b> of <b><i>ws_12_df</i></b> to the <span class=\"bltn\">list</span> "
   ]
  },
  {
   "cell_type": "code",
   "execution_count": 31,
   "id": "03066cf5",
   "metadata": {},
   "outputs": [
    {
     "name": "stdout",
     "output_type": "stream",
     "text": [
      "             Commodity          Subgroup                Package Method  \\\n",
      "0  Artichoke (SF only)             Globe           cartons, 24s   Conv   \n",
      "1  Artichoke (SF only)             Globe           cartons, 24s    Org   \n",
      "2              Cabbage  Round green type  40 lb cartons, medium   Conv   \n",
      "3              Cabbage  Round green type  45 lb cartons, medium    Org   \n",
      "4              Cabbage  Round green type  45 lb cartons, 18-24s   Conv   \n",
      "\n",
      "  Terminal Market        Jan        Feb        Mar        Apr        May  \\\n",
      "0        San Fran  28.583333         30    30.9375       18.5  13.477273   \n",
      "1        San Fran   37.34375  35.461538        N\\A        N\\A        N\\A   \n",
      "2         Atlanta        N\\A        N\\A        N\\A        N\\A        N\\A   \n",
      "3         Atlanta  33.945652      36.35  29.590909  24.428571         29   \n",
      "4        San Fran      14.85        8.4      10.37       8.77       9.73   \n",
      "\n",
      "         Jun    Jul        Aug    Sep        Oct        Nov        Dec   Year  \n",
      "0  17.833333     30   35.26087  25.75  24.659091  23.473684  26.289474  24.12  \n",
      "1    30.3125     35  40.119565   45.5  40.473684  32.763158       32.5  36.88  \n",
      "2        N\\A    N\\A       16.5    N\\A        N\\A        N\\A        N\\A  16.50  \n",
      "3    32.9375    N\\A   52.77381   45.5  36.780488         42  45.647059  37.67  \n",
      "4      10.81  10.78      11.76  15.86      19.19      19.16      15.85  12.87  \n"
     ]
    }
   ],
   "source": [
    "# Let's replace the headings with more uniform names\n",
    "new_col = ['Commodity', 'Subgroup', 'Package', 'Method', 'Terminal Market', 'Jan', 'Feb', 'Mar', 'Apr', 'May', 'Jun', 'Jul', 'Aug', 'Sep', 'Oct', 'Nov', 'Dec', 'Year']\n",
    "\n",
    "# Set the ws_12_df.columns equal to the new column names. \n",
    "ws_12_df.columns = new_col\n",
    "\n",
    "# Check that the column names have been updated by printing the first 5 rows of the DataFrame \n",
    "print(ws_12_df[0:5])\n"
   ]
  },
  {
   "cell_type": "markdown",
   "id": "c5865ca6",
   "metadata": {},
   "source": [
    "<h4><u>Plotting the Data</u></h4>\n",
    "Let's plot some of the data stored in <b><i>ws_12_df</i></b>. In the Code cell below, a <b><i>plot</i></b> is created displaying the <i>Months</i> on the x-axis and the <i>Price</i> of organically grown artichoke. A <b><i>scatterplot</i></b> is then overlaid on the same figure resulting in a line graph with data points. "
   ]
  },
  {
   "cell_type": "code",
   "execution_count": 32,
   "id": "074f3352",
   "metadata": {},
   "outputs": [
    {
     "data": {
      "image/png": "[encoded data removed]",
      "text/plain": [
       "<Figure size 640x480 with 1 Axes>"
      ]
     },
     "metadata": {},
     "output_type": "display_data"
    }
   ],
   "source": [
    "# Plot the price of organically grown artichoke for each of the 12 months. \n",
    "\n",
    "# Store the monthly prices for organic artichoke in 2012 as the variable o_a_12\n",
    "o_a_12 = ws_12_df.iloc[0, 5:17]\n",
    "\n",
    "# Set the title, x-axis and y-axis labels\n",
    "plt.title(\"Monthly Price of Organic Artichoke (2012)\")\n",
    "plt.xlabel(\"Month\")\n",
    "plt.ylabel(\"Price per 24s Carton\")\n",
    "\n",
    "plt.plot(o_a_12)\n",
    "plt.scatter(new_col[5:17], o_a_12)\n",
    "plt.show()"
   ]
  },
  {
   "cell_type": "markdown",
   "id": "8ce62636",
   "metadata": {},
   "source": [
    "<h3 class=\"yt\">Your Turn: 1</h3>\n",
    "<b><i>Read</i></b> and <span class=\"bltn\"> print</span> the first <span class=\"num\">10 lines</span> in the the <span class=\"str\">'Vegetables_2013_Cleaned.txt'</span> file. Use the <span class=\"bltn\">with open () as file:</span> syntax. "
   ]
  },
  {
   "cell_type": "code",
   "execution_count": 36,
   "id": "f7a4aea6",
   "metadata": {},
   "outputs": [
    {
     "name": "stdout",
     "output_type": "stream",
     "text": [
      "ï»¿\" Wholesale vegetable prices, organic and conventional, monthly and annual, 2013\",,,,,,,,,,,,,,,,,\n",
      "\n",
      "Commodity,Subgroup,Package,Organic/ Conventional,Terminal Market,13-Jan,13-Feb,13-Mar,13-Apr,13-May,13-Jun,13-Jul,13-Aug,13-Sep,13-Oct,13-Nov,13-Dec,2013\n",
      "\n",
      "Artichoke (SF only),Globe,cartons  24s,Conv,San Fran,18.25,N\\A,34.07,25.21,19.87,21.21,19.6,22.03,35.6,26.5,30.83,34.36,25.79\n",
      "\n",
      "Artichoke (SF only),Globe,cartons  24s,Org,San Fran,38,16,16,38.5,N\\A,28.23,20.8,42,40.72,N\\A,N\\A,N\\A,32.18\n",
      "\n",
      "Cabbage,Round green type,45 lb cartons  medium,Conv,Atlanta,12.02,10.02,13.5,12.15,13.4,14.04,13.66,14.92,18.95,15.13,13.8,13.81,14.17\n",
      "\n",
      "Cabbage,Round green type,45 lb cartons  medium,Org,Atlanta,39.38,41.44,36.4,36.25,47.78,63.33,62.82,55.09,45.8,45,42.79,38.73,45.67\n",
      "\n",
      "Cabbage,Round green type,45 lb cartons  18-24s,Conv,San Fran,25.73,18.33,20.49,11.55,11.23,10.04,10.2,12.45,23.48,20.41,17.53,17.03,16.39\n",
      "\n",
      "Cabbage,Round green type,45 lb cartons  18-24s,Org,San Fran,42.04,43.53,44.86,69.5,N\\A,N\\A,N\\A,42.25,30.5,40.5,27,27,38.48\n",
      "\n",
      "Carrots,Not specified,25 lb sacks loose  JBO,Conv,Atlanta,12.5,12.26,11.53,9.61,9.88,11.09,12.21,13.75,13.51,11.25,11.25,12.98,11.41\n",
      "\n",
      "Carrots,Not specified,25 lb sacks loose  JBO,Org,Atlanta,24.5,25.26,25,24.5,24.5,24.5,N\\A,N\\A,N\\A,N\\A,22.5,23.76,24.42\n",
      "\n"
     ]
    }
   ],
   "source": [
    "with open('Data/Vegetables_2013_Cleaned.txt') as file:\n",
    "    for i in range(0,10) :\n",
    "        print(file.readline())\n",
    "\n",
    "file.close()"
   ]
  },
  {
   "cell_type": "markdown",
   "id": "6fe70e91",
   "metadata": {},
   "source": [
    "<h3 class=\"yt\">Your Turn: 2</h3>\n",
    "Read in the <span class=\"str\">'Vegetables.xls'</span> file and open the <b><i>2013</i></b> spreadsheet using pandas <b>ExcelFile</b> and <b>parse</b> functions. <b><i>Skip</b></i> the <span class=\"num\">first row</span> of the 2013 spreadsheet."
   ]
  },
  {
   "cell_type": "code",
   "execution_count": 39,
   "id": "acb07f83",
   "metadata": {},
   "outputs": [],
   "source": [
    "veg_excel = pd.ExcelFile('Data/Vegetables.xls')\n",
    "veg_excel_13 = veg_excel.parse('2013', skiprows = [0])\n"
   ]
  },
  {
   "cell_type": "markdown",
   "id": "18e74f7a",
   "metadata": {},
   "source": [
    "<h3 class=\"yt\">Your Turn: 3 </h3>\n",
    "Replace the column names in the DataFrame you created in <span class=\"yt\">Your Turn 2</span> with the column names stored in the previously created <b><i>new_col</i></b> variable. Display the updated DataFrame using the <b>.head()</b> method. \n"
   ]
  },
  {
   "cell_type": "code",
   "execution_count": 40,
   "id": "70347bdf",
   "metadata": {},
   "outputs": [
    {
     "name": "stdout",
     "output_type": "stream",
     "text": [
      "             Commodity          Subgroup                Package Method  \\\n",
      "0  Artichoke (SF only)             Globe           cartons, 24s   Conv   \n",
      "1  Artichoke (SF only)             Globe           cartons, 24s    Org   \n",
      "2              Cabbage  Round green type  45 lb cartons, medium   Conv   \n",
      "3              Cabbage  Round green type  45 lb cartons, medium    Org   \n",
      "4              Cabbage  Round green type  45 lb cartons, 18-24s   Conv   \n",
      "\n",
      "  Terminal Market        Jan        Feb        Mar        Apr        May  \\\n",
      "0        San Fran      18.25        N\\A  34.066667  25.214286  19.869048   \n",
      "1        San Fran         38         16         16       38.5        N\\A   \n",
      "2         Atlanta  12.015625   10.02381       13.5  12.154412  13.396739   \n",
      "3         Atlanta     39.375  41.441176  36.397059      36.25  47.777778   \n",
      "4        San Fran   25.72619  18.328947  20.492857  11.547619   11.22619   \n",
      "\n",
      "         Jun        Jul        Aug        Sep        Oct        Nov  \\\n",
      "0  21.212121       19.6  22.029412       35.6       26.5  30.833333   \n",
      "1  28.230769       20.8         42  40.722222        N\\A        N\\A   \n",
      "2  14.043478   13.66358  14.919753  18.953704  15.127778  13.802632   \n",
      "3  63.333333  62.818182  55.090909       45.8         45  42.789474   \n",
      "4    10.0375  10.204545  12.452381  23.481481  20.409091  17.527778   \n",
      "\n",
      "         Dec   Year  \n",
      "0  34.363636  25.79  \n",
      "1        N\\A  32.18  \n",
      "2  13.808824  14.17  \n",
      "3  38.727273  45.67  \n",
      "4     17.025  16.39  \n"
     ]
    }
   ],
   "source": [
    "veg_excel_13.columns = new_col\n",
    "print(veg_excel_13.head())"
   ]
  },
  {
   "cell_type": "markdown",
   "id": "322c8b8a",
   "metadata": {},
   "source": [
    "<h3 class=\"yt\">Your Turn: 4 </h3>\n",
    "Create a <b><i>figure</i></b> displaying the <b><i>monthly prices for conventionally grown cabbage from Atlanta during 2013</i></b>. You can choose to use any type of figure or plot used so far in this course or choose one of your own from the MatPlotLib documentation. \n",
    "\n",
    "Make sure the figure has a <b><i>title</i></b> and that the <b><i>axes</i></b> are labeled. "
   ]
  },
  {
   "cell_type": "code",
   "execution_count": 68,
   "id": "fa1147eb",
   "metadata": {},
   "outputs": [
    {
     "data": {
      "text/plain": [
       "<matplotlib.collections.PathCollection at 0x1b2ec79da30>"
      ]
     },
     "execution_count": 68,
     "metadata": {},
     "output_type": "execute_result"
    },
    {
     "data": {
      "image/png": "[encoded data removed]",
      "text/plain": [
       "<Figure size 640x480 with 1 Axes>"
      ]
     },
     "metadata": {},
     "output_type": "display_data"
    }
   ],
   "source": [
    "cabbage_prices = veg_excel_13.iloc[2][5:17]\n",
    "plt.plot(cabbage_prices)\n",
    "plt.xlabel(\"Month\")\n",
    "plt.ylabel(\"Price by 45 lb Cartons\")\n",
    "plt.title('Price of Cabbage in 2013')\n",
    "plt.scatter(new_col[5:17], cabbage_prices)"
   ]
  },
  {
   "cell_type": "code",
   "execution_count": null,
   "id": "3cdf515f",
   "metadata": {},
   "outputs": [],
   "source": []
  }
 ],
 "metadata": {
  "kernelspec": {
   "display_name": "Python 3.9.12 ('base')",
   "language": "python",
   "name": "python3"
  },
  "language_info": {
   "codemirror_mode": {
    "name": "ipython",
    "version": 3
   },
   "file_extension": ".py",
   "mimetype": "text/x-python",
   "name": "python",
   "nbconvert_exporter": "python",
   "pygments_lexer": "ipython3",
   "version": "3.9.12"
  },
  "vscode": {
   "interpreter": {
    "hash": "cc370858ca80ced27ea1999c9f41ec460f1d49c7556c9e4982e26a6401af991f"
   }
  }
 },
 "nbformat": 4,
 "nbformat_minor": 5
}
